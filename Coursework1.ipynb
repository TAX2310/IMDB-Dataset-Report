{
 "cells": [
  {
   "cell_type": "markdown",
   "metadata": {
    "id": "RAjqSMIWxCJG"
   },
   "source": [
    "# IMDb"
   ]
  },
  {
   "cell_type": "markdown",
   "metadata": {
    "id": "uMnGgZpgeRea"
   },
   "source": [
    "\n",
    "# Defining the Problem and Assembling a Dataset\n",
    "\n",
    " The IMDb data set is attempting to predict whether a movie review is positive or negative. The set contains 50000 reviews and is split into a 25000 review training set and a 25000 review test set. Both sets have an even 50% positive and negative reviews. The labels for the reviews are lists of 1 and 0 denoting positive and negative reviews respectively. This is a binary classification.\n"
   ]
  },
  {
   "cell_type": "code",
   "execution_count": null,
   "metadata": {
    "id": "JN3A6QmLl1NV"
   },
   "outputs": [],
   "source": [
    "from tensorflow.keras.datasets import imdb\n",
    "\n",
    "((train_data, train_labels), (test_data, test_labels)) = imdb.load_data(num_words = 10000)"
   ]
  },
  {
   "cell_type": "markdown",
   "metadata": {
    "id": "UpAmTZYdl2Uv"
   },
   "source": [
    "# Choosing a Measure of Success\n",
    "As the this is a binary classification problem the output will be a probability so my loss function will be binary-crossentropy."
   ]
  },
  {
   "cell_type": "code",
   "execution_count": null,
   "metadata": {
    "id": "3IpVqrR6l72Q"
   },
   "outputs": [],
   "source": [
    "model.compile(optimizer='rmsprop', loss='binary_crossentropy', metrics=['accuracy'])"
   ]
  },
  {
   "cell_type": "markdown",
   "metadata": {
    "id": "q26BcVpjoKyI"
   },
   "source": [
    "# Deciding on an Evaluation Protocol\n",
    "For this model I will be validating progress by maintaining a hold-out validation set. To do this I will create a set of 10000 samples and removing them from the training set. I will then train the model and evaluate the results looking out for overfitting. "
   ]
  },
  {
   "cell_type": "code",
   "execution_count": null,
   "metadata": {
    "id": "C05P-_SJmBnD"
   },
   "outputs": [],
   "source": [
    "x_val = x_train[:10000]\n",
    "\n",
    "partial_x_train = x_train[10000:]\n",
    "\n",
    "y_val = y_train[:10000]\n",
    "\n",
    "partial_y_train = y_train[10000:]"
   ]
  },
  {
   "cell_type": "markdown",
   "metadata": {
    "id": "EwOIUnXqrYIn"
   },
   "source": [
    "# Preparing Your Data\n",
    "The data provided in the IMDb set is in the format of a set of lists of word indices that encode the reviews that only recognises the top 10000 most popular words in the dictionary. To prepare this data to be used with the model I will vectorise the data with one-hot encoding. This is where the integer is converted into a 1 at the index of the integer as the set is limited to the 10000 most popular words no index will be greater than 10000 giving me a training and test sets of the shape (25000, 10000). I will the also vectorise the labels."
   ]
  },
  {
   "cell_type": "code",
   "execution_count": null,
   "metadata": {
    "id": "oEuqC9XkmF_4"
   },
   "outputs": [],
   "source": [
    "import numpy as np\n",
    "\n",
    "def vectorize_sequences(sequences, dimension = 10000):\n",
    "\n",
    "​   results = np.zeros( (len(sequences), dimension) )\n",
    "\n",
    "​   for i, sequence in enumerate(sequences):\n",
    "\n",
    "​     results[i, sequence] = 1.\n",
    "\n",
    "​   return results\n",
    "\n",
    "x_train = vectorize_sequences(train_data)\n",
    "\n",
    "x_test = vectorize_sequences(test_data)\n",
    "\n",
    "y_train = np.asarray(train_labels).astype('float32')\n",
    "\n",
    "y_test = np.asarray(test_labels).astype('float32')\n",
    "\n",
    "x_val = x_train[:10000]\n",
    "\n",
    "partial_x_train = x_train[10000:]\n",
    "\n",
    "y_val = y_train[:10000]\n",
    "\n",
    "partial_y_train = y_train[10000:]"
   ]
  },
  {
   "cell_type": "markdown",
   "metadata": {
    "id": "DOL9pnf731qf"
   },
   "source": [
    "# Developing a Model\n",
    "I will now take these elements and develop a model."
   ]
  },
  {
   "cell_type": "code",
   "execution_count": 166,
   "metadata": {
    "executionInfo": {
     "elapsed": 546,
     "status": "ok",
     "timestamp": 1606357619017,
     "user": {
      "displayName": "taylor millin reade",
      "photoUrl": "https://lh3.googleusercontent.com/a-/AOh14Gi3EP-iXb63GI8GTHJwCVBa3RmkmwaFIN37kkeh=s64",
      "userId": "17849394238193524144"
     },
     "user_tz": 0
    },
    "id": "RtIEHCJEmXXO"
   },
   "outputs": [],
   "source": [
    "model = models.Sequential()\n",
    "\n",
    "model.add(layers.Dense(16, activation = 'relu', input_shape = (10000,)))\n",
    "\n",
    "model.add(layers.Dense(16, activation = 'relu'))\n",
    "\n",
    "model.add(layers.Dense(1, activation = 'sigmoid'))"
   ]
  },
  {
   "cell_type": "markdown",
   "metadata": {
    "id": "HotdO9HomjVj"
   },
   "source": [
    "For this problem I have created a sequential model of dense layers.\n",
    "\n",
    " \n",
    "\n",
    "The first layer has an output shape of 16 which is a 16 dimensional vector and an input shape of 10000 that is the shape of a one hot encoded review. The layer also has a relu activation.\n",
    "\n",
    " \n",
    "\n",
    "The second layer has an output shape of 16 but has no input shape as it takes the output shape of the previous layer as an input shape.\n",
    "\n",
    " \n",
    "\n",
    "The third and final layer has an output shape of 1 and a sigmoid activation. This is because we are dealing with a binary classification problem where the output will be a single digit either 1 or 0 so the output shape is 1. The sigmoid activation will squash the output into a probability between 0 and 1."
   ]
  },
  {
   "cell_type": "markdown",
   "metadata": {
    "id": "CjnZwxpuxR0B"
   },
   "source": [
    "## Scaling up: Developing a Model That Overfits\n",
    "\n",
    "at this stage I will create a low-capacity model and increase the hyperparameters separately. testing with the validation data looking for the point of overfitting.\n",
    "\n"
   ]
  },
  {
   "cell_type": "markdown",
   "metadata": {
    "id": "HOXG9l7FdeXj"
   },
   "source": [
    "### Low Capacity Model\n",
    "\n",
    "this model is a starting point it has a low capacity and under fits the data set I will increase the hyperparameters to the point that I see overfitting in an attempt create a model with sufficient but limited capacity.\n"
   ]
  },
  {
   "cell_type": "code",
   "execution_count": 3,
   "metadata": {
    "executionInfo": {
     "elapsed": 15058,
     "status": "ok",
     "timestamp": 1606358298117,
     "user": {
      "displayName": "taylor millin reade",
      "photoUrl": "https://lh3.googleusercontent.com/a-/AOh14Gi3EP-iXb63GI8GTHJwCVBa3RmkmwaFIN37kkeh=s64",
      "userId": "17849394238193524144"
     },
     "user_tz": 0
    },
    "id": "Kg4wjlqCemhK"
   },
   "outputs": [],
   "source": [
    "from tensorflow.keras.datasets import imdb\n",
    "\n",
    "((train_data, train_labels), (test_data, test_labels)) = imdb.load_data(num_words = 10000)\n",
    "\n",
    "import numpy as np\n",
    "\n",
    "def vectorize_sequences(sequences, dimension = 10000):\n",
    "    results = np.zeros( (len(sequences), dimension) )\n",
    "    for i, sequence in enumerate(sequences):\n",
    "        results[i, sequence] = 1.\n",
    "    return results\n",
    "\n",
    "x_train = vectorize_sequences(train_data)\n",
    "x_test = vectorize_sequences(test_data)\n",
    "\n",
    "y_train = np.asarray(train_labels).astype('float32')\n",
    "y_test = np.asarray(test_labels).astype('float32')\n",
    "\n",
    "x_val = x_train[:10000]\n",
    "partial_x_train = x_train[10000:]\n",
    "y_val = y_train[:10000]\n",
    "partial_y_train = y_train[10000:]\n",
    "\n",
    "from tensorflow.keras import models\n",
    "from tensorflow.keras import layers"
   ]
  },
  {
   "cell_type": "code",
   "execution_count": 4,
   "metadata": {
    "colab": {
     "base_uri": "https://localhost:8080/"
    },
    "executionInfo": {
     "elapsed": 21019,
     "status": "ok",
     "timestamp": 1606358304096,
     "user": {
      "displayName": "taylor millin reade",
      "photoUrl": "https://lh3.googleusercontent.com/a-/AOh14Gi3EP-iXb63GI8GTHJwCVBa3RmkmwaFIN37kkeh=s64",
      "userId": "17849394238193524144"
     },
     "user_tz": 0
    },
    "id": "XxoJxZ85GVAQ",
    "outputId": "f676b9b1-d3fa-424e-9f60-1c0250e5b5c6"
   },
   "outputs": [
    {
     "name": "stdout",
     "output_type": "stream",
     "text": [
      "Epoch 1/5\n",
      "30/30 [==============================] - 1s 41ms/step - loss: 0.6002 - accuracy: 0.6980 - val_loss: 0.5357 - val_accuracy: 0.8096\n",
      "Epoch 2/5\n",
      "30/30 [==============================] - 1s 29ms/step - loss: 0.4704 - accuracy: 0.8609 - val_loss: 0.4482 - val_accuracy: 0.8602\n",
      "Epoch 3/5\n",
      "30/30 [==============================] - 1s 29ms/step - loss: 0.3836 - accuracy: 0.9001 - val_loss: 0.3886 - val_accuracy: 0.8731\n",
      "Epoch 4/5\n",
      "30/30 [==============================] - 1s 29ms/step - loss: 0.3203 - accuracy: 0.9156 - val_loss: 0.3474 - val_accuracy: 0.8810\n",
      "Epoch 5/5\n",
      "30/30 [==============================] - 1s 28ms/step - loss: 0.2746 - accuracy: 0.9270 - val_loss: 0.3197 - val_accuracy: 0.8868\n"
     ]
    }
   ],
   "source": [
    "model = models.Sequential()\n",
    "model.add(layers.Dense(4, activation = 'relu', input_shape = (10000,)))\n",
    "model.add(layers.Dense(1, activation = 'sigmoid'))\n",
    "\n",
    "model.compile(optimizer='rmsprop',\n",
    "             loss='binary_crossentropy',\n",
    "             metrics=['accuracy'])\n",
    "\n",
    "low_cap = model.fit(partial_x_train, \n",
    "                    partial_y_train,\n",
    "                    epochs = 5,\n",
    "                    batch_size = 512,\n",
    "                    validation_data = (x_val, y_val)) \n",
    "\n"
   ]
  },
  {
   "cell_type": "code",
   "execution_count": 5,
   "metadata": {
    "executionInfo": {
     "elapsed": 21008,
     "status": "ok",
     "timestamp": 1606358304097,
     "user": {
      "displayName": "taylor millin reade",
      "photoUrl": "https://lh3.googleusercontent.com/a-/AOh14Gi3EP-iXb63GI8GTHJwCVBa3RmkmwaFIN37kkeh=s64",
      "userId": "17849394238193524144"
     },
     "user_tz": 0
    },
    "id": "obyflKfUe3r_"
   },
   "outputs": [],
   "source": [
    "import matplotlib.pyplot as plt\n",
    "    \n",
    "def plot_loss(history_dict):\n",
    "\n",
    "    loss = history_dict['loss']\n",
    "    val_loss = history_dict['val_loss']\n",
    "\n",
    "    epochs = range(1, len(loss) + 1)\n",
    "\n",
    "    blue_dots = 'bo'\n",
    "    solid_blue_line = 'b'\n",
    "\n",
    "    plt.plot(epochs, loss, blue_dots, label = 'Training loss')\n",
    "    plt.plot(epochs, val_loss, solid_blue_line, label = 'Validation loss')\n",
    "    plt.title('Training and validation loss')\n",
    "    plt.xlabel('Epochs')\n",
    "    plt.ylabel('Loss')\n",
    "    plt.legend()\n",
    "    plt.show()\n"
   ]
  },
  {
   "cell_type": "code",
   "execution_count": 6,
   "metadata": {
    "executionInfo": {
     "elapsed": 20998,
     "status": "ok",
     "timestamp": 1606358304098,
     "user": {
      "displayName": "taylor millin reade",
      "photoUrl": "https://lh3.googleusercontent.com/a-/AOh14Gi3EP-iXb63GI8GTHJwCVBa3RmkmwaFIN37kkeh=s64",
      "userId": "17849394238193524144"
     },
     "user_tz": 0
    },
    "id": "R38b5KrEwQjb"
   },
   "outputs": [],
   "source": [
    "def plot_acc(history_dict):\n",
    "    \n",
    "    plt.clf()\n",
    "\n",
    "    acc = history_dict['accuracy']\n",
    "    val_acc = history_dict['val_accuracy']\n",
    "    \n",
    "    epochs = range(1, len(acc) + 1)\n",
    "    \n",
    "    plt.plot(epochs, acc, 'bo', label = 'Training acc')\n",
    "    plt.plot(epochs, val_acc, 'b', label = 'Validation acc')\n",
    "    plt.title('Training and validation acc')\n",
    "    plt.xlabel('Epochs')\n",
    "    plt.ylabel('Accuracy')\n",
    "    plt.legend()\n",
    "    plt.show()"
   ]
  },
  {
   "cell_type": "code",
   "execution_count": 7,
   "metadata": {
    "colab": {
     "base_uri": "https://localhost:8080/",
     "height": 0
    },
    "executionInfo": {
     "elapsed": 21524,
     "status": "ok",
     "timestamp": 1606358304637,
     "user": {
      "displayName": "taylor millin reade",
      "photoUrl": "https://lh3.googleusercontent.com/a-/AOh14Gi3EP-iXb63GI8GTHJwCVBa3RmkmwaFIN37kkeh=s64",
      "userId": "17849394238193524144"
     },
     "user_tz": 0
    },
    "id": "RKXYjsOofKBc",
    "outputId": "b4c28f4b-5896-4bd2-c1e6-f8eb9fb50433"
   },
   "outputs": [
    {
     "data": {
      "image/png": "[encoded data removed]",
      "text/plain": [
       "<Figure size 432x288 with 1 Axes>"
      ]
     },
     "metadata": {
      "needs_background": "light",
      "tags": []
     },
     "output_type": "display_data"
    },
    {
     "data": {
      "image/png": "[encoded data removed]",
      "text/plain": [
       "<Figure size 432x288 with 1 Axes>"
      ]
     },
     "metadata": {
      "needs_background": "light",
      "tags": []
     },
     "output_type": "display_data"
    }
   ],
   "source": [
    "plot_loss(low_cap.history)\n",
    "plot_acc(low_cap.history)"
   ]
  },
  {
   "cell_type": "markdown",
   "metadata": {
    "id": "3UW-VyxVfurl"
   },
   "source": [
    "this model has a good statistical power but is not complex enuf to model the problem.\n",
    "\n",
    "I will now expand the model to the point of overfitting.\n"
   ]
  },
  {
   "cell_type": "markdown",
   "metadata": {
    "id": "bAJ5E72omZ81"
   },
   "source": [
    "### Units\n",
    "\n",
    "units are the dimensions of the representational space of a layer. the greater the number of units in a layer the more capacity the model will have for memorization. \n",
    "\n",
    "I will now experiment with different amounts units in the representational space of the model and testing with the validation data."
   ]
  },
  {
   "cell_type": "code",
   "execution_count": 12,
   "metadata": {
    "executionInfo": {
     "elapsed": 498,
     "status": "ok",
     "timestamp": 1606358318823,
     "user": {
      "displayName": "taylor millin reade",
      "photoUrl": "https://lh3.googleusercontent.com/a-/AOh14Gi3EP-iXb63GI8GTHJwCVBa3RmkmwaFIN37kkeh=s64",
      "userId": "17849394238193524144"
     },
     "user_tz": 0
    },
    "id": "7Gcx7yX6SqHC"
   },
   "outputs": [],
   "source": [
    "import tensorflow as tf\n",
    "class CustomCallback(tf.keras.callbacks.Callback):\n",
    "    def on_epoch_begin(self, epoch, logs=None):\n",
    "        c = ['\\b|', '\\b/', '\\b-', '\\b\\\\'] \n",
    "        print(c[epoch % 4], end='')\n",
    "    def on_epoch_end(self, epoch, logs=None):\n",
    "        print('\\b', end='')"
   ]
  },
  {
   "cell_type": "code",
   "execution_count": 173,
   "metadata": {
    "executionInfo": {
     "elapsed": 17533,
     "status": "ok",
     "timestamp": 1606357636080,
     "user": {
      "displayName": "taylor millin reade",
      "photoUrl": "https://lh3.googleusercontent.com/a-/AOh14Gi3EP-iXb63GI8GTHJwCVBa3RmkmwaFIN37kkeh=s64",
      "userId": "17849394238193524144"
     },
     "user_tz": 0
    },
    "id": "S7xbHYOJRFTw"
   },
   "outputs": [],
   "source": [
    "def build_model_units(layer_1_units, layer_2_units):\n",
    "    model = models.Sequential()\n",
    "    model.add(layers.Dense(layer_1_units, activation = 'relu', input_shape = (10000,)))\n",
    "    model.add(layers.Dense(layer_2_units, activation = 'sigmoid'))\n",
    "    model.compile(optimizer = 'rmsprop',\n",
    "                  loss = 'binary_crossentropy',\n",
    "                  metrics = ['acc'])\n",
    "    return model"
   ]
  },
  {
   "cell_type": "code",
   "execution_count": 174,
   "metadata": {
    "colab": {
     "base_uri": "https://localhost:8080/"
    },
    "executionInfo": {
     "elapsed": 208762,
     "status": "ok",
     "timestamp": 1606357827317,
     "user": {
      "displayName": "taylor millin reade",
      "photoUrl": "https://lh3.googleusercontent.com/a-/AOh14Gi3EP-iXb63GI8GTHJwCVBa3RmkmwaFIN37kkeh=s64",
      "userId": "17849394238193524144"
     },
     "user_tz": 0
    },
    "id": "UptjNCDCReue",
    "outputId": "0f53cf74-8d0f-4fbf-fd91-09cbf38d7643"
   },
   "outputs": [
    {
     "name": "stdout",
     "output_type": "stream",
     "text": [
      "Training 4\n",
      "\b|\b\b/\b\b-\b\b\\\b\b|\b\b/\b\b-\b\b\\\b\b|\b\b/\b\b-\b\b\\\b\b|\b\b/\b\b-\b\b\\\b\b|\b\b/\b\b-\b\b\\\bTraining 16\n",
      "\b|\b\b/\b\b-\b\b\\\b\b|\b\b/\b\b-\b\b\\\b\b|\b\b/\b\b-\b\b\\\b\b|\b\b/\b\b-\b\b\\\b\b|\b\b/\b\b-\b\b\\\bTraining 512\n",
      "\b|\b\b/\b\b-\b\b\\\b\b|\b\b/\b\b-\b\b\\\b\b|\b\b/\b\b-\b\b\\\b\b|\b\b/\b\b-\b\b\\\b\b|\b\b/\b\b-\b\b\\\b"
     ]
    }
   ],
   "source": [
    "histories_units = {}\n",
    "for i in [4, 16, 512]:\n",
    "    model = build_model_units(i, 1)\n",
    "    model_name = str(i)\n",
    "    print('Training', model_name)\n",
    "    history = model.fit(partial_x_train, \n",
    "                     partial_y_train,\n",
    "                     epochs=20,\n",
    "                     batch_size=512,\n",
    "                     validation_data = (x_val, y_val),\n",
    "                     verbose=0,\n",
    "                     callbacks=[CustomCallback()])\n",
    "    histories_units[model_name] = history"
   ]
  },
  {
   "cell_type": "code",
   "execution_count": 18,
   "metadata": {
    "executionInfo": {
     "elapsed": 535,
     "status": "ok",
     "timestamp": 1606358420655,
     "user": {
      "displayName": "taylor millin reade",
      "photoUrl": "https://lh3.googleusercontent.com/a-/AOh14Gi3EP-iXb63GI8GTHJwCVBa3RmkmwaFIN37kkeh=s64",
      "userId": "17849394238193524144"
     },
     "user_tz": 0
    },
    "id": "KIhQMBuzTGw0"
   },
   "outputs": [],
   "source": [
    "def plot_loss_comparison(loss_a, label_a, loss_b, label_b, y_label, title):\n",
    "\n",
    "    epochs = range(1, len(loss_a) + 1)\n",
    "\n",
    "    plt.plot(epochs, loss_a, 'b+', label = label_a)\n",
    "    plt.plot(epochs, loss_b, 'bo', label = label_b)\n",
    "    plt.xlabel('Epochs')\n",
    "    plt.ylabel(y_label)\n",
    "    plt.title(title)\n",
    "    plt.legend()\n",
    "    plt.show()"
   ]
  },
  {
   "cell_type": "code",
   "execution_count": 17,
   "metadata": {
    "executionInfo": {
     "elapsed": 557,
     "status": "ok",
     "timestamp": 1606358419337,
     "user": {
      "displayName": "taylor millin reade",
      "photoUrl": "https://lh3.googleusercontent.com/a-/AOh14Gi3EP-iXb63GI8GTHJwCVBa3RmkmwaFIN37kkeh=s64",
      "userId": "17849394238193524144"
     },
     "user_tz": 0
    },
    "id": "FvsowHm6TMa5"
   },
   "outputs": [],
   "source": [
    "def plt_histories_comparison(hists):\n",
    "  keys = list(hists.keys())\n",
    "  for i in range(len(keys)-1):\n",
    "    net_a = keys[i]\n",
    "    net_b = keys[i+1]\n",
    "    plot_loss_comparison(hists[net_a].history['val_loss'], net_a, \n",
    "                        hists[net_b].history['val_loss'], net_b, 'loss',  \n",
    "                        title = 'validation loss ' + str(net_a) + '/' + str(net_b))"
   ]
  },
  {
   "cell_type": "code",
   "execution_count": 177,
   "metadata": {
    "colab": {
     "base_uri": "https://localhost:8080/",
     "height": 573
    },
    "executionInfo": {
     "elapsed": 208967,
     "status": "ok",
     "timestamp": 1606357827554,
     "user": {
      "displayName": "taylor millin reade",
      "photoUrl": "https://lh3.googleusercontent.com/a-/AOh14Gi3EP-iXb63GI8GTHJwCVBa3RmkmwaFIN37kkeh=s64",
      "userId": "17849394238193524144"
     },
     "user_tz": 0
    },
    "id": "vag_IAmNc0yu",
    "outputId": "3701480d-1c75-43b3-f7fb-f9d599868732"
   },
   "outputs": [
    {
     "data": {
      "image/png": "[encoded data removed]",
      "text/plain": [
       "<Figure size 432x288 with 1 Axes>"
      ]
     },
     "metadata": {
      "needs_background": "light",
      "tags": []
     },
     "output_type": "display_data"
    },
    {
     "data": {
      "image/png": "[encoded data removed]",
      "text/plain": [
       "<Figure size 432x288 with 1 Axes>"
      ]
     },
     "metadata": {
      "needs_background": "light",
      "tags": []
     },
     "output_type": "display_data"
    }
   ],
   "source": [
    "plt_histories_comparison(histories_units)"
   ]
  },
  {
   "cell_type": "markdown",
   "metadata": {
    "id": "PDH8kVxphFjo"
   },
   "source": [
    "the model with 4 units looks to be underfitting as it makes it too inflexible to learn from the dataset. whereas the larger 512 model begins overfitting sooner and increases quickly as it is too good at learning from the training data and is not able to generalise.\n",
    "\n",
    "I believe that 16 is the optimal amount of units for the model.\n"
   ]
  },
  {
   "cell_type": "markdown",
   "metadata": {
    "id": "TkFjMVV13fxl"
   },
   "source": [
    "### Layers\n",
    "\n",
    "layers are esentialy functions that performs tensor operations on an input tensor and outputs another tensor.\n",
    "\n",
    "in this example the dense layer function is output \n",
    "\n",
    "= relu(dot(W, input) + b)\n",
    "\n",
    "this can be interprated as the dot product of the imput tensor and the output tensor plus the bias the result is then run through the relu function that is simply the maximum of its input and 0.\n",
    "\n",
    "the greater the amount of units in a layer the more capacity the model will have for memorization.\n",
    "\n",
    "I will now experimenting different amounts of layers in the modle and testting with the validation data."
   ]
  },
  {
   "cell_type": "code",
   "execution_count": 21,
   "metadata": {
    "executionInfo": {
     "elapsed": 454,
     "status": "ok",
     "timestamp": 1606358444235,
     "user": {
      "displayName": "taylor millin reade",
      "photoUrl": "https://lh3.googleusercontent.com/a-/AOh14Gi3EP-iXb63GI8GTHJwCVBa3RmkmwaFIN37kkeh=s64",
      "userId": "17849394238193524144"
     },
     "user_tz": 0
    },
    "id": "5fbtvqx8N-UY"
   },
   "outputs": [],
   "source": [
    "def build_model_layers(units):\n",
    "    model = models.Sequential()\n",
    "    \n",
    "    model.add(layers.Dense(units[0], activation = 'relu', input_shape = (10000,)))\n",
    "    \n",
    "    if len(units)>1:\n",
    "      for x in units[1:]:\n",
    "        model.add(layers.Dense(x, activation = 'relu'))\n",
    "    \n",
    "    model.add(layers.Dense(1, activation = 'sigmoid'))\n",
    "    \n",
    "    model.compile(optimizer = 'rmsprop',\n",
    "                  loss = 'binary_crossentropy',\n",
    "                  metrics = ['acc'])  \n",
    "    return model"
   ]
  },
  {
   "cell_type": "code",
   "execution_count": 22,
   "metadata": {
    "colab": {
     "base_uri": "https://localhost:8080/"
    },
    "executionInfo": {
     "elapsed": 80133,
     "status": "ok",
     "timestamp": 1606358523927,
     "user": {
      "displayName": "taylor millin reade",
      "photoUrl": "https://lh3.googleusercontent.com/a-/AOh14Gi3EP-iXb63GI8GTHJwCVBa3RmkmwaFIN37kkeh=s64",
      "userId": "17849394238193524144"
     },
     "user_tz": 0
    },
    "id": "RNw2dvPpN-UY",
    "outputId": "606e5a5c-14ac-40f9-f6e4-c2dfc81ce8fc"
   },
   "outputs": [
    {
     "name": "stdout",
     "output_type": "stream",
     "text": [
      "Training 1-layers\n",
      "\b|\b\b/\b\b-\b\b\\\b\b|\b\b/\b\b-\b\b\\\b\b|\b\b/\b\b-\b\b\\\b\b|\b\b/\b\b-\b\b\\\b\b|\b\b/\b\b-\b\b\\\bTraining 2-layers\n",
      "\b|\b\b/\b\b-\b\b\\\b\b|\b\b/\b\b-\b\b\\\b\b|\b\b/\b\b-\b\b\\\b\b|\b\b/\b\b-\b\b\\\b\b|\b\b/\b\b-\b\b\\\bTraining 3-layers\n",
      "\b|\b\b/\b\b-\b\b\\\b\b|\b\b/\b\b-\b\b\\\b\b|\b\b/\b\b-\b\b\\\b\b|\b\b/\b\b-\b\b\\\b\b|\b\b/\b\b-\b\b\\\bTraining 4-layers\n",
      "\b|\b\b/\b\b-\b\b\\\b\b|\b\b/\b\b-\b\b\\\b\b|\b\b/\b\b-\b\b\\\b\b|\b\b/\b\b-\b\b\\\b\b|\b\b/\b\b-\b\b\\\b"
     ]
    }
   ],
   "source": [
    "layers_loss = []\n",
    "layers_acc = []\n",
    "\n",
    "histories_layers = {}\n",
    "model_layers = [[16], [16, 16], [16, 16, 16], [16, 16, 16, 16]]\n",
    "for i in range(len(model_layers)):\n",
    "    model = build_model_layers(model_layers[i])\n",
    "    model_name = str(len(model_layers[i])) + '-layers'\n",
    "    print('Training', model_name)\n",
    "    history = model.fit(partial_x_train, \n",
    "                     partial_y_train,\n",
    "                     epochs=20,\n",
    "                     batch_size=512,\n",
    "                     validation_data = (x_val, y_val),\n",
    "                     verbose=0,\n",
    "                     callbacks=[CustomCallback()])\n",
    "    histories_layers[model_name] = history\n",
    "    layers_loss.append(min(history.history['val_loss']))\n",
    "    layers_acc.append(max(history.history['val_acc']))\n",
    "\n",
    "    "
   ]
  },
  {
   "cell_type": "code",
   "execution_count": 23,
   "metadata": {
    "executionInfo": {
     "elapsed": 80125,
     "status": "ok",
     "timestamp": 1606358523928,
     "user": {
      "displayName": "taylor millin reade",
      "photoUrl": "https://lh3.googleusercontent.com/a-/AOh14Gi3EP-iXb63GI8GTHJwCVBa3RmkmwaFIN37kkeh=s64",
      "userId": "17849394238193524144"
     },
     "user_tz": 0
    },
    "id": "_vwZObOEVeR6"
   },
   "outputs": [],
   "source": [
    "def plt_histories(hists):\n",
    "  keys = list(hists.keys())\n",
    "  for i in range(len(keys)):\n",
    "    net_a = keys[i]\n",
    "    plot_loss_comparison(hists[net_a].history['loss'], 'train_loss', \n",
    "                        hists[net_a].history['val_loss'], 'val_loss', 'loss',  \n",
    "                        title = 'validation loss ' + str(net_a))"
   ]
  },
  {
   "cell_type": "code",
   "execution_count": 24,
   "metadata": {
    "colab": {
     "base_uri": "https://localhost:8080/",
     "height": 0
    },
    "executionInfo": {
     "elapsed": 80887,
     "status": "ok",
     "timestamp": 1606358524700,
     "user": {
      "displayName": "taylor millin reade",
      "photoUrl": "https://lh3.googleusercontent.com/a-/AOh14Gi3EP-iXb63GI8GTHJwCVBa3RmkmwaFIN37kkeh=s64",
      "userId": "17849394238193524144"
     },
     "user_tz": 0
    },
    "id": "1kR-4tz65Eyz",
    "outputId": "2d99db5e-9d8e-4f63-b14b-ad15f5de85d6"
   },
   "outputs": [
    {
     "data": {
      "image/png": "[encoded data removed]",
      "text/plain": [
       "<Figure size 432x288 with 1 Axes>"
      ]
     },
     "metadata": {
      "needs_background": "light",
      "tags": []
     },
     "output_type": "display_data"
    },
    {
     "data": {
      "image/png": "[encoded data removed]",
      "text/plain": [
       "<Figure size 432x288 with 1 Axes>"
      ]
     },
     "metadata": {
      "needs_background": "light",
      "tags": []
     },
     "output_type": "display_data"
    },
    {
     "data": {
      "image/png": "[encoded data removed]",
      "text/plain": [
       "<Figure size 432x288 with 1 Axes>"
      ]
     },
     "metadata": {
      "needs_background": "light",
      "tags": []
     },
     "output_type": "display_data"
    },
    {
     "data": {
      "image/png": "[encoded data removed]",
      "text/plain": [
       "<Figure size 432x288 with 1 Axes>"
      ]
     },
     "metadata": {
      "needs_background": "light",
      "tags": []
     },
     "output_type": "display_data"
    }
   ],
   "source": [
    "  plt_histories(histories_layers)"
   ]
  },
  {
   "cell_type": "markdown",
   "metadata": {
    "id": "VxVm2PyAxo9T"
   },
   "source": [
    "Results"
   ]
  },
  {
   "cell_type": "code",
   "execution_count": 25,
   "metadata": {
    "colab": {
     "base_uri": "https://localhost:8080/",
     "height": 0
    },
    "executionInfo": {
     "elapsed": 81465,
     "status": "ok",
     "timestamp": 1606358525290,
     "user": {
      "displayName": "taylor millin reade",
      "photoUrl": "https://lh3.googleusercontent.com/a-/AOh14Gi3EP-iXb63GI8GTHJwCVBa3RmkmwaFIN37kkeh=s64",
      "userId": "17849394238193524144"
     },
     "user_tz": 0
    },
    "id": "KXp1Cij6aruQ",
    "outputId": "bdf39dbd-3c5d-46cc-8f27-2eaeec8bb31f"
   },
   "outputs": [
    {
     "data": {
      "image/png": "[encoded data removed]",
      "text/plain": [
       "<Figure size 432x288 with 1 Axes>"
      ]
     },
     "metadata": {
      "needs_background": "light",
      "tags": []
     },
     "output_type": "display_data"
    },
    {
     "data": {
      "image/png": "[encoded data removed]",
      "text/plain": [
       "<Figure size 432x288 with 1 Axes>"
      ]
     },
     "metadata": {
      "needs_background": "light",
      "tags": []
     },
     "output_type": "display_data"
    }
   ],
   "source": [
    "    plt.plot(range(1,5), layers_loss, 'b', label = 'loss')\n",
    "    plt.title('Min validation loss to hidden layer')\n",
    "    plt.xlabel('HLayers')\n",
    "    plt.ylabel('Loss')\n",
    "    plt.legend()\n",
    "    plt.show()\n",
    "\n",
    "    plt.plot(range(1,5), layers_acc, 'b', label = 'acc')\n",
    "    plt.title('Max validation acc to hidden layer')\n",
    "    plt.xlabel('HLayers')\n",
    "    plt.ylabel('Loss')\n",
    "    plt.legend()\n",
    "    plt.show()"
   ]
  },
  {
   "cell_type": "markdown",
   "metadata": {
    "id": "mZ0YjomAk-Ga"
   },
   "source": [
    "Theas graphs show the loss and accuracy of models with 1 to 4 hidden layers at their optimal epoch.\n",
    "\n",
    "I believe this shows that 2 hidden layers is the best option for this model."
   ]
  },
  {
   "cell_type": "markdown",
   "metadata": {
    "id": "MrESAIFJqkoA"
   },
   "source": [
    "### Epochs\n",
    "\n",
    "epochs are full iterations over the training data this will happen in mini batches of a specified size. in the following examples the model will train on mini batches of size 512 for 10 epochs. after every mini batch is processed a gradient update will be performed. \n",
    "\n",
    " \n",
    "\n",
    "I will now train my model on a large number of epochs while validating the results to find the point of overfitting."
   ]
  },
  {
   "cell_type": "code",
   "execution_count": 183,
   "metadata": {
    "colab": {
     "base_uri": "https://localhost:8080/"
    },
    "executionInfo": {
     "elapsed": 309151,
     "status": "ok",
     "timestamp": 1606357927802,
     "user": {
      "displayName": "taylor millin reade",
      "photoUrl": "https://lh3.googleusercontent.com/a-/AOh14Gi3EP-iXb63GI8GTHJwCVBa3RmkmwaFIN37kkeh=s64",
      "userId": "17849394238193524144"
     },
     "user_tz": 0
    },
    "id": "x8urlnpnrjjJ",
    "outputId": "bfd3b07f-9a31-48f1-b510-3d17ca87a99f"
   },
   "outputs": [
    {
     "name": "stdout",
     "output_type": "stream",
     "text": [
      "Epoch 1/20\n",
      "30/30 [==============================] - 1s 40ms/step - loss: 0.5274 - accuracy: 0.7908 - val_loss: 0.3943 - val_accuracy: 0.8695\n",
      "Epoch 2/20\n",
      "30/30 [==============================] - 1s 33ms/step - loss: 0.3176 - accuracy: 0.8985 - val_loss: 0.3099 - val_accuracy: 0.8874\n",
      "Epoch 3/20\n",
      "30/30 [==============================] - 1s 33ms/step - loss: 0.2332 - accuracy: 0.9233 - val_loss: 0.3025 - val_accuracy: 0.8783\n",
      "Epoch 4/20\n",
      "30/30 [==============================] - 1s 33ms/step - loss: 0.1807 - accuracy: 0.9414 - val_loss: 0.2857 - val_accuracy: 0.8853\n",
      "Epoch 5/20\n",
      "30/30 [==============================] - 1s 34ms/step - loss: 0.1468 - accuracy: 0.9523 - val_loss: 0.2812 - val_accuracy: 0.8876\n",
      "Epoch 6/20\n",
      "30/30 [==============================] - 1s 34ms/step - loss: 0.1211 - accuracy: 0.9608 - val_loss: 0.2926 - val_accuracy: 0.8865\n",
      "Epoch 7/20\n",
      "30/30 [==============================] - 1s 33ms/step - loss: 0.0993 - accuracy: 0.9705 - val_loss: 0.3092 - val_accuracy: 0.8855\n",
      "Epoch 8/20\n",
      "30/30 [==============================] - 1s 33ms/step - loss: 0.0832 - accuracy: 0.9768 - val_loss: 0.3273 - val_accuracy: 0.8821\n",
      "Epoch 9/20\n",
      "30/30 [==============================] - 1s 34ms/step - loss: 0.0694 - accuracy: 0.9803 - val_loss: 0.3554 - val_accuracy: 0.8811\n",
      "Epoch 10/20\n",
      "30/30 [==============================] - 1s 33ms/step - loss: 0.0566 - accuracy: 0.9855 - val_loss: 0.3819 - val_accuracy: 0.8743\n",
      "Epoch 11/20\n",
      "30/30 [==============================] - 1s 34ms/step - loss: 0.0477 - accuracy: 0.9880 - val_loss: 0.4080 - val_accuracy: 0.8732\n",
      "Epoch 12/20\n",
      "30/30 [==============================] - 1s 34ms/step - loss: 0.0369 - accuracy: 0.9922 - val_loss: 0.4339 - val_accuracy: 0.8754\n",
      "Epoch 13/20\n",
      "30/30 [==============================] - 1s 33ms/step - loss: 0.0305 - accuracy: 0.9941 - val_loss: 0.4742 - val_accuracy: 0.8744\n",
      "Epoch 14/20\n",
      "30/30 [==============================] - 1s 33ms/step - loss: 0.0248 - accuracy: 0.9950 - val_loss: 0.5569 - val_accuracy: 0.8668\n",
      "Epoch 15/20\n",
      "30/30 [==============================] - 1s 33ms/step - loss: 0.0161 - accuracy: 0.9981 - val_loss: 0.5504 - val_accuracy: 0.8652\n",
      "Epoch 16/20\n",
      "30/30 [==============================] - 1s 34ms/step - loss: 0.0150 - accuracy: 0.9981 - val_loss: 0.5870 - val_accuracy: 0.8642\n",
      "Epoch 17/20\n",
      "30/30 [==============================] - 1s 33ms/step - loss: 0.0119 - accuracy: 0.9983 - val_loss: 0.6203 - val_accuracy: 0.8679\n",
      "Epoch 18/20\n",
      "30/30 [==============================] - 1s 33ms/step - loss: 0.0069 - accuracy: 0.9996 - val_loss: 0.6432 - val_accuracy: 0.8676\n",
      "Epoch 19/20\n",
      "30/30 [==============================] - 1s 33ms/step - loss: 0.0109 - accuracy: 0.9977 - val_loss: 0.6729 - val_accuracy: 0.8667\n",
      "Epoch 20/20\n",
      "30/30 [==============================] - 1s 33ms/step - loss: 0.0040 - accuracy: 0.9998 - val_loss: 0.7101 - val_accuracy: 0.8668\n"
     ]
    }
   ],
   "source": [
    "model = models.Sequential()\n",
    "model.add(layers.Dense(16, activation = 'relu', input_shape = (10000,)))\n",
    "model.add(layers.Dense(16, activation = 'relu'))\n",
    "model.add(layers.Dense(1, activation = 'sigmoid'))\n",
    "\n",
    "model.compile(optimizer='rmsprop',\n",
    "             loss='binary_crossentropy',\n",
    "             metrics=['accuracy'])\n",
    "\n",
    "epoch_test = model.fit(partial_x_train, \n",
    "                    partial_y_train,\n",
    "                    epochs = 20,\n",
    "                    batch_size = 512,\n",
    "                    validation_data = (x_val, y_val))"
   ]
  },
  {
   "cell_type": "markdown",
   "metadata": {
    "id": "wi-aJJ2mz4t2"
   },
   "source": [
    "I will now use a plot loss function to plot the loss data of the training and validation sets at each epoch.\n"
   ]
  },
  {
   "cell_type": "code",
   "execution_count": 184,
   "metadata": {
    "colab": {
     "base_uri": "https://localhost:8080/",
     "height": 295
    },
    "executionInfo": {
     "elapsed": 309143,
     "status": "ok",
     "timestamp": 1606357927803,
     "user": {
      "displayName": "taylor millin reade",
      "photoUrl": "https://lh3.googleusercontent.com/a-/AOh14Gi3EP-iXb63GI8GTHJwCVBa3RmkmwaFIN37kkeh=s64",
      "userId": "17849394238193524144"
     },
     "user_tz": 0
    },
    "id": "-O9rYMzD03QE",
    "outputId": "1ef59d85-8eb4-4eea-f497-ca6001b3c607"
   },
   "outputs": [
    {
     "data": {
      "image/png": "[encoded data removed]",
      "text/plain": [
       "<Figure size 432x288 with 1 Axes>"
      ]
     },
     "metadata": {
      "needs_background": "light",
      "tags": []
     },
     "output_type": "display_data"
    }
   ],
   "source": [
    "plot_loss(epoch_test.history)"
   ]
  },
  {
   "cell_type": "markdown",
   "metadata": {
    "id": "5CIVnV4V1FIJ"
   },
   "source": [
    "We can see from the graph that at first the validation loss decreases but at around epochs 4 and 5 the validation loss begins to increase. This shows the model is overfitting.\n",
    "\n",
    " \n",
    "\n",
    "I will now use a plot_acc function to plot the accuracy data of the training and validation sets at each epoch."
   ]
  },
  {
   "cell_type": "code",
   "execution_count": 185,
   "metadata": {
    "colab": {
     "base_uri": "https://localhost:8080/",
     "height": 295
    },
    "executionInfo": {
     "elapsed": 309547,
     "status": "ok",
     "timestamp": 1606357928220,
     "user": {
      "displayName": "taylor millin reade",
      "photoUrl": "https://lh3.googleusercontent.com/a-/AOh14Gi3EP-iXb63GI8GTHJwCVBa3RmkmwaFIN37kkeh=s64",
      "userId": "17849394238193524144"
     },
     "user_tz": 0
    },
    "id": "fUAufylh2g2c",
    "outputId": "970c1b52-ff6e-4234-d953-be0d8a42b03f"
   },
   "outputs": [
    {
     "data": {
      "image/png": "[encoded data removed]",
      "text/plain": [
       "<Figure size 432x288 with 1 Axes>"
      ]
     },
     "metadata": {
      "needs_background": "light",
      "tags": []
     },
     "output_type": "display_data"
    }
   ],
   "source": [
    "plot_acc(epoch_test.history)"
   ]
  },
  {
   "cell_type": "markdown",
   "metadata": {
    "id": "ow5z_fby20Lr"
   },
   "source": [
    "We can see that the validation accuracy begins to decrease at the 4th epoch and is beginning to experience overfitting"
   ]
  },
  {
   "cell_type": "markdown",
   "metadata": {
    "id": "48jA9IbrpqC9"
   },
   "source": [
    "for a model of this configuration I believe that 4 epochs is will give the best results from the test data set"
   ]
  },
  {
   "cell_type": "markdown",
   "metadata": {
    "id": "d-ADox93VpsL"
   },
   "source": [
    "## Regularisation\n",
    "\n",
    "Regularisation is a set of techniques that can be applied to the learning algorithm of a network helping it generalise. This should in turn improve performance on unseen data."
   ]
  },
  {
   "cell_type": "markdown",
   "metadata": {
    "id": "QXFHX6L8W0Le"
   },
   "source": [
    "### l1 and l2\n",
    "\n",
    "L1 norm or lasso regression is a cost equal to the absolute value of the set of weight parameters that is added to the loss function. \n",
    "\n",
    " \n",
    "\n",
    "L2 norm or ridge regression is similar except it is the square of the weight parameters  "
   ]
  },
  {
   "cell_type": "code",
   "execution_count": 186,
   "metadata": {
    "executionInfo": {
     "elapsed": 309537,
     "status": "ok",
     "timestamp": 1606357928222,
     "user": {
      "displayName": "taylor millin reade",
      "photoUrl": "https://lh3.googleusercontent.com/a-/AOh14Gi3EP-iXb63GI8GTHJwCVBa3RmkmwaFIN37kkeh=s64",
      "userId": "17849394238193524144"
     },
     "user_tz": 0
    },
    "id": "xrQNpYT4V7pM"
   },
   "outputs": [],
   "source": [
    "from tensorflow.keras import regularizers\n",
    "\n",
    "def build_model_l1_l2(layer_1_units, layer_2_units, layer_3_units, reg):\n",
    "    model = models.Sequential()\n",
    "    \n",
    "    if (reg == 'l1'):\n",
    "        model.add(layers.Dense(layer_1_units, kernel_regularizer = regularizers.l1(0.001), \n",
    "                               activation='relu', input_shape=(10000,)))\n",
    "        model.add(layers.Dense(layer_2_units, kernel_regularizer=regularizers.l1(0.001), \n",
    "                               activation='relu'))\n",
    "\n",
    "    elif (reg == 'l2'):\n",
    "        model.add(layers.Dense(layer_1_units, kernel_regularizer = regularizers.l2(0.001), \n",
    "                               activation='relu', input_shape=(10000,)))\n",
    "        model.add(layers.Dense(layer_2_units, kernel_regularizer=regularizers.l2(0.001), \n",
    "                               activation='relu'))\n",
    "    \n",
    "    else:\n",
    "        model.add(layers.Dense(layer_1_units, activation='relu', input_shape=(10000,)))\n",
    "        model.add(layers.Dense(layer_2_units, activation='relu'))\n",
    "    \n",
    "\n",
    "    model.add(layers.Dense(layer_3_units, activation='sigmoid'))\n",
    "    model.compile(optimizer='rmsprop',\n",
    "                  loss='binary_crossentropy',\n",
    "                  metrics=['acc'])\n",
    "    return model"
   ]
  },
  {
   "cell_type": "code",
   "execution_count": 187,
   "metadata": {
    "colab": {
     "base_uri": "https://localhost:8080/"
    },
    "executionInfo": {
     "elapsed": 369885,
     "status": "ok",
     "timestamp": 1606357988581,
     "user": {
      "displayName": "taylor millin reade",
      "photoUrl": "https://lh3.googleusercontent.com/a-/AOh14Gi3EP-iXb63GI8GTHJwCVBa3RmkmwaFIN37kkeh=s64",
      "userId": "17849394238193524144"
     },
     "user_tz": 0
    },
    "id": "7I_GAy3eX6iQ",
    "outputId": "b6e4e031-6520-4f99-c262-5527c7f3b8d5"
   },
   "outputs": [
    {
     "name": "stdout",
     "output_type": "stream",
     "text": [
      "Training No regularisation\n",
      "\b|\b\b/\b\b-\b\b\\\b\b|\b\b/\b\b-\b\b\\\b\b|\b\b/\b\b-\b\b\\\b\b|\b\b/\b\b-\b\b\\\b\b|\b\b/\b\b-\b\b\\\bTraining l1 regularisation\n",
      "\b|\b\b/\b\b-\b\b\\\b\b|\b\b/\b\b-\b\b\\\b\b|\b\b/\b\b-\b\b\\\b\b|\b\b/\b\b-\b\b\\\b\b|\b\b/\b\b-\b\b\\\bTraining l2 regularisation\n",
      "\b|\b\b/\b\b-\b\b\\\b\b|\b\b/\b\b-\b\b\\\b\b|\b\b/\b\b-\b\b\\\b\b|\b\b/\b\b-\b\b\\\b\b|\b\b/\b\b-\b\b\\\b"
     ]
    }
   ],
   "source": [
    "histories_l1_l2 = {}\n",
    "for i in ['No', 'l1', 'l2']:\n",
    "    model = build_model_l1_l2(16, 16, 1, i)\n",
    "    model_name = str(i) + ' regularisation'\n",
    "    print('Training ' + model_name)\n",
    "    history = model.fit(partial_x_train, \n",
    "                     partial_y_train,\n",
    "                     epochs=20,\n",
    "                     batch_size=512,\n",
    "                     validation_data = (x_val, y_val),\n",
    "                     verbose=0,\n",
    "                     callbacks=[CustomCallback()])\n",
    "    histories_l1_l2[model_name] = history"
   ]
  },
  {
   "cell_type": "code",
   "execution_count": 188,
   "metadata": {
    "colab": {
     "base_uri": "https://localhost:8080/",
     "height": 573
    },
    "executionInfo": {
     "elapsed": 370094,
     "status": "ok",
     "timestamp": 1606357988803,
     "user": {
      "displayName": "taylor millin reade",
      "photoUrl": "https://lh3.googleusercontent.com/a-/AOh14Gi3EP-iXb63GI8GTHJwCVBa3RmkmwaFIN37kkeh=s64",
      "userId": "17849394238193524144"
     },
     "user_tz": 0
    },
    "id": "wonvRhU9RrPV",
    "outputId": "36952dac-6efc-42c2-9989-8e2f33ca0149"
   },
   "outputs": [
    {
     "data": {
      "image/png": "[encoded data removed]",
      "text/plain": [
       "<Figure size 432x288 with 1 Axes>"
      ]
     },
     "metadata": {
      "needs_background": "light",
      "tags": []
     },
     "output_type": "display_data"
    },
    {
     "data": {
      "image/png": "[encoded data removed]",
      "text/plain": [
       "<Figure size 432x288 with 1 Axes>"
      ]
     },
     "metadata": {
      "needs_background": "light",
      "tags": []
     },
     "output_type": "display_data"
    }
   ],
   "source": [
    "plt_histories_comparison(histories_l1_l2)"
   ]
  },
  {
   "cell_type": "code",
   "execution_count": 189,
   "metadata": {
    "colab": {
     "base_uri": "https://localhost:8080/",
     "height": 295
    },
    "executionInfo": {
     "elapsed": 370333,
     "status": "ok",
     "timestamp": 1606357989054,
     "user": {
      "displayName": "taylor millin reade",
      "photoUrl": "https://lh3.googleusercontent.com/a-/AOh14Gi3EP-iXb63GI8GTHJwCVBa3RmkmwaFIN37kkeh=s64",
      "userId": "17849394238193524144"
     },
     "user_tz": 0
    },
    "id": "9dGBzmTZLopM",
    "outputId": "63e45d72-d2dd-4b56-e1b0-5e5855f3933b"
   },
   "outputs": [
    {
     "data": {
      "image/png": "[encoded data removed]",
      "text/plain": [
       "<Figure size 432x288 with 1 Axes>"
      ]
     },
     "metadata": {
      "needs_background": "light",
      "tags": []
     },
     "output_type": "display_data"
    }
   ],
   "source": [
    "  net_a = 'No regularisation'\n",
    "  net_b = 'l2 regularisation'\n",
    "  plot_loss_comparison(histories_l1_l2[net_a].history['val_loss'], net_a, \n",
    "                     histories_l1_l2[net_b].history['val_loss'], net_b, 'loss',  \n",
    "                     title = 'validation loss ' + str(net_a) + '/' + str(net_b))"
   ]
  },
  {
   "cell_type": "markdown",
   "metadata": {
    "id": "s5vFqNd0xaGU"
   },
   "source": [
    "We can see from the first graph that the l1 regularisation helps to stop overfitting but, the loss overall is too high. Whereas l2 stops overfitting without as high a rate of loss.\n",
    "\n",
    " \n",
    "\n",
    "Even though overfitting is reduced we can see from the third graph that there is still a significant increase in loss over no regularisation. instead I will just train to 4 epochs to avoid overfitting."
   ]
  },
  {
   "cell_type": "markdown",
   "metadata": {
    "id": "4z_KOxZ7b6em"
   },
   "source": [
    "### Dropout\n",
    "\n",
    "Dropout is a technique where a layer is added to the network, and a fraction of the output of that layer is zeroed. The fraction is determined by the dropout rate that is conventionally between 0.2 and 0.5."
   ]
  },
  {
   "cell_type": "code",
   "execution_count": 190,
   "metadata": {
    "executionInfo": {
     "elapsed": 370324,
     "status": "ok",
     "timestamp": 1606357989055,
     "user": {
      "displayName": "taylor millin reade",
      "photoUrl": "https://lh3.googleusercontent.com/a-/AOh14Gi3EP-iXb63GI8GTHJwCVBa3RmkmwaFIN37kkeh=s64",
      "userId": "17849394238193524144"
     },
     "user_tz": 0
    },
    "id": "5oogFjpAY8i9"
   },
   "outputs": [],
   "source": [
    "def build_model_dropout(drop):\n",
    "    model = models.Sequential()\n",
    "    \n",
    "    model.add(layers.Dense(16, activation='relu', input_shape=(10000,)))\n",
    "    if(drop):\n",
    "        model.add(layers.Dropout(0.5))\n",
    "\n",
    "    model.add(layers.Dense(16, activation='relu'))\n",
    "    if(drop):\n",
    "        model.add(layers.Dropout(0.5))\n",
    "    \n",
    "    model.add(layers.Dense(1, activation='sigmoid'))\n",
    "    model.compile(optimizer='rmsprop',\n",
    "                  loss='binary_crossentropy',\n",
    "                  metrics=['acc'])\n",
    "    return model"
   ]
  },
  {
   "cell_type": "code",
   "execution_count": 191,
   "metadata": {
    "colab": {
     "base_uri": "https://localhost:8080/"
    },
    "executionInfo": {
     "elapsed": 410158,
     "status": "ok",
     "timestamp": 1606358028900,
     "user": {
      "displayName": "taylor millin reade",
      "photoUrl": "https://lh3.googleusercontent.com/a-/AOh14Gi3EP-iXb63GI8GTHJwCVBa3RmkmwaFIN37kkeh=s64",
      "userId": "17849394238193524144"
     },
     "user_tz": 0
    },
    "id": "8b4LY5pSZFFl",
    "outputId": "621bf703-645d-4b3f-9e8f-a0f792dea2cf"
   },
   "outputs": [
    {
     "name": "stdout",
     "output_type": "stream",
     "text": [
      "Training  dropout = True\n",
      "\b|\b\b/\b\b-\b\b\\\b\b|\b\b/\b\b-\b\b\\\b\b|\b\b/\b\b-\b\b\\\b\b|\b\b/\b\b-\b\b\\\b\b|\b\b/\b\b-\b\b\\\bTraining  dropout = False\n",
      "\b|\b\b/\b\b-\b\b\\\b\b|\b\b/\b\b-\b\b\\\b\b|\b\b/\b\b-\b\b\\\b\b|\b\b/\b\b-\b\b\\\b\b|\b\b/\b\b-\b\b\\\b"
     ]
    }
   ],
   "source": [
    "histories_dropout = {}\n",
    "for i in [True, False]:\n",
    "    model = build_model_dropout(i)\n",
    "    model_name = ' dropout = ' + str(i)\n",
    "    print('Training ' + model_name)\n",
    "    history = model.fit(partial_x_train, \n",
    "                     partial_y_train,\n",
    "                     epochs=20,\n",
    "                     batch_size=512,\n",
    "                     validation_data = (x_val, y_val),\n",
    "                     verbose=0,\n",
    "                     callbacks=[CustomCallback()])\n",
    "    histories_dropout[model_name] = history"
   ]
  },
  {
   "cell_type": "code",
   "execution_count": 192,
   "metadata": {
    "colab": {
     "base_uri": "https://localhost:8080/",
     "height": 573
    },
    "executionInfo": {
     "elapsed": 410393,
     "status": "ok",
     "timestamp": 1606358029145,
     "user": {
      "displayName": "taylor millin reade",
      "photoUrl": "https://lh3.googleusercontent.com/a-/AOh14Gi3EP-iXb63GI8GTHJwCVBa3RmkmwaFIN37kkeh=s64",
      "userId": "17849394238193524144"
     },
     "user_tz": 0
    },
    "id": "7y3Bzq50RZPm",
    "outputId": "8f191d71-2acb-46c5-c67f-f8ab75c20eae"
   },
   "outputs": [
    {
     "data": {
      "image/png": "[encoded data removed]",
      "text/plain": [
       "<Figure size 432x288 with 1 Axes>"
      ]
     },
     "metadata": {
      "needs_background": "light",
      "tags": []
     },
     "output_type": "display_data"
    },
    {
     "data": {
      "image/png": "[encoded data removed]",
      "text/plain": [
       "<Figure size 432x288 with 1 Axes>"
      ]
     },
     "metadata": {
      "needs_background": "light",
      "tags": []
     },
     "output_type": "display_data"
    }
   ],
   "source": [
    "plt_histories(histories_dropout)"
   ]
  },
  {
   "cell_type": "markdown",
   "metadata": {
    "id": "iYYp0W4MY14_"
   },
   "source": [
    "We can see that the model performs worse on the training date when using dropout. however, on the validation data overfitting begins at around 6 epochs rather than 4 with dropout but then precedes to increase at a similar rate.\n",
    "\n",
    "although overfitting begins later with dropout there isn’t enough of an improvement on performance so I will not include it in the model."
   ]
  },
  {
   "cell_type": "markdown",
   "metadata": {
    "id": "ZTefy-k5z0uv"
   },
   "source": [
    "# Testing the model"
   ]
  },
  {
   "cell_type": "markdown",
   "metadata": {
    "id": "6qwIQc-Ja_1a"
   },
   "source": [
    "## Training Set\n",
    "\n",
    "Now that I have a model that I believe is optimised for the problem I will retrain the model on the entire training set."
   ]
  },
  {
   "cell_type": "code",
   "execution_count": 193,
   "metadata": {
    "colab": {
     "base_uri": "https://localhost:8080/"
    },
    "executionInfo": {
     "elapsed": 16402,
     "status": "ok",
     "timestamp": 1606358052571,
     "user": {
      "displayName": "taylor millin reade",
      "photoUrl": "https://lh3.googleusercontent.com/a-/AOh14Gi3EP-iXb63GI8GTHJwCVBa3RmkmwaFIN37kkeh=s64",
      "userId": "17849394238193524144"
     },
     "user_tz": 0
    },
    "id": "yD32dRel9R46",
    "outputId": "dc1f4a8b-ade8-4d57-d8b6-8f198bf25b75"
   },
   "outputs": [
    {
     "name": "stdout",
     "output_type": "stream",
     "text": [
      "Epoch 1/4\n",
      "49/49 [==============================] - 1s 26ms/step - loss: 0.4288 - accuracy: 0.8223\n",
      "Epoch 2/4\n",
      "49/49 [==============================] - 1s 26ms/step - loss: 0.2470 - accuracy: 0.9099\n",
      "Epoch 3/4\n",
      "49/49 [==============================] - 1s 27ms/step - loss: 0.1929 - accuracy: 0.9309\n",
      "Epoch 4/4\n",
      "49/49 [==============================] - 1s 26ms/step - loss: 0.1616 - accuracy: 0.9432\n"
     ]
    },
    {
     "data": {
      "text/plain": [
       "<tensorflow.python.keras.callbacks.History at 0x7f80eea700b8>"
      ]
     },
     "execution_count": 193,
     "metadata": {
      "tags": []
     },
     "output_type": "execute_result"
    }
   ],
   "source": [
    "from tensorflow.keras.datasets import imdb\n",
    "\n",
    "((train_data, train_labels), (test_data, test_labels)) = imdb.load_data(num_words = 10000)\n",
    "\n",
    "import numpy as np\n",
    "\n",
    "def vectorize_sequences(sequences, dimension = 10000):\n",
    "    results = np.zeros( (len(sequences), dimension) )\n",
    "    for i, sequence in enumerate(sequences):\n",
    "        results[i, sequence] = 1.\n",
    "    return results\n",
    "\n",
    "x_train = vectorize_sequences(train_data)\n",
    "x_test = vectorize_sequences(test_data)\n",
    "\n",
    "y_train = np.asarray(train_labels).astype('float32')\n",
    "y_test = np.asarray(test_labels).astype('float32')\n",
    "\n",
    "from tensorflow.keras import models, layers\n",
    "\n",
    "\n",
    "model = models.Sequential()\n",
    "model.add(layers.Dense(16, activation = 'relu', input_shape = (10000,)))\n",
    "model.add(layers.Dense(16, activation = 'relu'))\n",
    "model.add(layers.Dense(1, activation = 'sigmoid'))\n",
    "\n",
    "model.compile(optimizer='rmsprop',\n",
    "             loss='binary_crossentropy',\n",
    "             metrics=['accuracy'])\n",
    "\n",
    "model.fit(x_train, y_train, epochs=4, batch_size=512)"
   ]
  },
  {
   "cell_type": "markdown",
   "metadata": {
    "id": "HL5wWn2QmRLN"
   },
   "source": [
    "## Test Set \n",
    "\n",
    "Now that the model has been trained, I will evaluate it on the test set."
   ]
  },
  {
   "cell_type": "code",
   "execution_count": 194,
   "metadata": {
    "colab": {
     "base_uri": "https://localhost:8080/"
    },
    "executionInfo": {
     "elapsed": 18355,
     "status": "ok",
     "timestamp": 1606358054541,
     "user": {
      "displayName": "taylor millin reade",
      "photoUrl": "https://lh3.googleusercontent.com/a-/AOh14Gi3EP-iXb63GI8GTHJwCVBa3RmkmwaFIN37kkeh=s64",
      "userId": "17849394238193524144"
     },
     "user_tz": 0
    },
    "id": "VSWodviY-Kq9",
    "outputId": "4f27f5b3-05f0-4d64-8471-da70954b1ae9"
   },
   "outputs": [
    {
     "name": "stdout",
     "output_type": "stream",
     "text": [
      "782/782 [==============================] - 1s 2ms/step - loss: 0.3071 - accuracy: 0.8800\n"
     ]
    }
   ],
   "source": [
    "results = model.evaluate(x_test, y_test)"
   ]
  },
  {
   "cell_type": "markdown",
   "metadata": {
    "id": "TV-YGdWPHSxc"
   },
   "source": [
    "This model is achieving an accuracy of 88% a relative improvement of 76% over random (50%)."
   ]
  },
  {
   "cell_type": "code",
   "execution_count": 195,
   "metadata": {
    "colab": {
     "base_uri": "https://localhost:8080/"
    },
    "executionInfo": {
     "elapsed": 18660,
     "status": "ok",
     "timestamp": 1606358054856,
     "user": {
      "displayName": "taylor millin reade",
      "photoUrl": "https://lh3.googleusercontent.com/a-/AOh14Gi3EP-iXb63GI8GTHJwCVBa3RmkmwaFIN37kkeh=s64",
      "userId": "17849394238193524144"
     },
     "user_tz": 0
    },
    "id": "nix8yzIN-gP_",
    "outputId": "450d435a-feeb-49ee-87f1-9b15ce1a32c6"
   },
   "outputs": [
    {
     "name": "stdout",
     "output_type": "stream",
     "text": [
      "prediction - [0.12406096] lable - 0.0\n",
      "prediction - [0.9995965] lable - 1.0\n",
      "prediction - [0.67049533] lable - 1.0\n",
      "prediction - [0.7157085] lable - 0.0\n",
      "prediction - [0.95104504] lable - 1.0\n"
     ]
    }
   ],
   "source": [
    "pred = model.predict(x_test[:5])\n",
    "\n",
    "for i in range(5):\n",
    "  print('prediction - ' + str(pred[i]) + ' lable - ' + str(y_test[i]))"
   ]
  },
  {
   "cell_type": "markdown",
   "metadata": {
    "id": "rWX2pRjbHnWG"
   },
   "source": [
    "Here is the first 5 predictions and the corresponding labels you can already see errors at row 4 where the prediction is meant to be negative."
   ]
  },
  {
   "cell_type": "markdown",
   "metadata": {
    "id": "PuSElDTXIcaK"
   },
   "source": [
    "# Conclusion \n",
    "\n",
    "After expanding my low-capacity model to the point of overfitting, I believe that I have found a modle that is flexible enough to create meaningful predictions, from the data set but not to complex that it unable to generalise. \n",
    "\n",
    " \n",
    "\n",
    "I experimented using regularisation techniques such as L1, L2 and dropout but found that although they helped to with overfitting the overall loss to accuracy was too high.\n",
    "\n",
    " \n",
    "\n",
    "This model can archive an accuracy rates of around 88%, but, I feel that testing with more advanced techniques this could still improve."
   ]
  }
 ],
 "metadata": {
  "colab": {
   "authorship_tag": "ABX9TyO/Z2N1nhxIl+6p8Ygxb/qr",
   "collapsed_sections": [
    "uMnGgZpgeRea",
    "UpAmTZYdl2Uv",
    "q26BcVpjoKyI",
    "EwOIUnXqrYIn",
    "CjnZwxpuxR0B",
    "HOXG9l7FdeXj",
    "bAJ5E72omZ81",
    "TkFjMVV13fxl",
    "MrESAIFJqkoA",
    "d-ADox93VpsL",
    "QXFHX6L8W0Le",
    "4z_KOxZ7b6em",
    "ZTefy-k5z0uv",
    "6qwIQc-Ja_1a",
    "HL5wWn2QmRLN"
   ],
   "name": "Coursework1.1.ipynb",
   "provenance": []
  },
  "kernelspec": {
   "display_name": "Python 3",
   "language": "python",
   "name": "python3"
  },
  "language_info": {
   "codemirror_mode": {
    "name": "ipython",
    "version": 3
   },
   "file_extension": ".py",
   "mimetype": "text/x-python",
   "name": "python",
   "nbconvert_exporter": "python",
   "pygments_lexer": "ipython3",
   "version": "3.8.3"
  }
 },
 "nbformat": 4,
 "nbformat_minor": 1
}
